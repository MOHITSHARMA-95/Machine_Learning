{
 "cells": [
  {
   "cell_type": "code",
   "execution_count": 1,
   "id": "ab336437",
   "metadata": {},
   "outputs": [],
   "source": [
    "import pandas as pd\n",
    "import numpy as np\n",
    "import matplotlib.pyplot as plt"
   ]
  },
  {
   "cell_type": "code",
   "execution_count": 8,
   "id": "5ea088db",
   "metadata": {},
   "outputs": [
    {
     "data": {
      "text/html": [
       "<div>\n",
       "<style scoped>\n",
       "    .dataframe tbody tr th:only-of-type {\n",
       "        vertical-align: middle;\n",
       "    }\n",
       "\n",
       "    .dataframe tbody tr th {\n",
       "        vertical-align: top;\n",
       "    }\n",
       "\n",
       "    .dataframe thead th {\n",
       "        text-align: right;\n",
       "    }\n",
       "</style>\n",
       "<table border=\"1\" class=\"dataframe\">\n",
       "  <thead>\n",
       "    <tr style=\"text-align: right;\">\n",
       "      <th></th>\n",
       "      <th>0</th>\n",
       "    </tr>\n",
       "  </thead>\n",
       "  <tbody>\n",
       "    <tr>\n",
       "      <th>0</th>\n",
       "      <td>0</td>\n",
       "    </tr>\n",
       "    <tr>\n",
       "      <th>1</th>\n",
       "      <td>0</td>\n",
       "    </tr>\n",
       "    <tr>\n",
       "      <th>2</th>\n",
       "      <td>0</td>\n",
       "    </tr>\n",
       "    <tr>\n",
       "      <th>3</th>\n",
       "      <td>0</td>\n",
       "    </tr>\n",
       "    <tr>\n",
       "      <th>4</th>\n",
       "      <td>0</td>\n",
       "    </tr>\n",
       "    <tr>\n",
       "      <th>...</th>\n",
       "      <td>...</td>\n",
       "    </tr>\n",
       "    <tr>\n",
       "      <th>94</th>\n",
       "      <td>1</td>\n",
       "    </tr>\n",
       "    <tr>\n",
       "      <th>95</th>\n",
       "      <td>1</td>\n",
       "    </tr>\n",
       "    <tr>\n",
       "      <th>96</th>\n",
       "      <td>1</td>\n",
       "    </tr>\n",
       "    <tr>\n",
       "      <th>97</th>\n",
       "      <td>1</td>\n",
       "    </tr>\n",
       "    <tr>\n",
       "      <th>98</th>\n",
       "      <td>1</td>\n",
       "    </tr>\n",
       "  </tbody>\n",
       "</table>\n",
       "<p>99 rows × 1 columns</p>\n",
       "</div>"
      ],
      "text/plain": [
       "    0\n",
       "0   0\n",
       "1   0\n",
       "2   0\n",
       "3   0\n",
       "4   0\n",
       ".. ..\n",
       "94  1\n",
       "95  1\n",
       "96  1\n",
       "97  1\n",
       "98  1\n",
       "\n",
       "[99 rows x 1 columns]"
      ]
     },
     "execution_count": 8,
     "metadata": {},
     "output_type": "execute_result"
    }
   ],
   "source": [
    "X = pd.read_csv(\"logisticX.csv\")\n",
    "Y = pd.read_csv(\"logisticY.csv\")\n",
    "rows,col = X.shape\n",
    "\n",
    "feature_1 = X.iloc[:,0]\n",
    "mean1 = np.mean(feature_1,axis=0)\n",
    "std_dev1 = np.std(feature_1)\n",
    "\n",
    "feature_2 = X.iloc[:,1]\n",
    "mean2 = np.mean(feature_1,axis=0)\n",
    "std_dev2 = np.std(feature_2)\n",
    "\n",
    "\n",
    "\n",
    "feature_1 = np.array([(feature_1-mean1)/std_dev1]).transpose()\n",
    "feature_2 = np.array([(feature_2-mean2)/std_dev2]).transpose()\n",
    "ones = np.ones((rows,1))\n",
    "data = np.append(ones,feature_1,axis=1)\n",
    "data = np.append(data,feature_2,axis=1)\n",
    "\n",
    "X = data\n"
   ]
  },
  {
   "cell_type": "code",
   "execution_count": 3,
   "id": "bbf97891",
   "metadata": {},
   "outputs": [],
   "source": [
    "# calculating Hessian.\n",
    "def h(x,theta):\n",
    "    vector = np.dot(x,theta)\n",
    "    value = 1/(1+np.exp(-vector))\n",
    "    return value\n",
    "\n",
    "\n",
    "\n",
    "\n",
    "def Hessian(x,theta):\n",
    "    arr = h(x,theta)*(1-h(x,theta))\n",
    "    vector = np.array(arr[:,0])\n",
    "    D = np.diag(vector)\n",
    "    ##D is 99*99\n",
    "    D = np.dot(x.transpose(),D)\n",
    "    #x.transpose() = 3*99, * D (99*99) = Result(3*99)\n",
    "    hessian = np.dot(D,x)\n",
    "    #D(3*99) x(99*3)= hessian(3*3)\n",
    "    return hessian \n",
    "                      \n",
    "                      \n",
    "                      \n",
    "\n",
    "# Finding Gradient of L\n",
    "def grad_L(x,y,theta):\n",
    "    h_theta = h(x,theta)\n",
    "    diff = (y-h_theta)\n",
    "    #x.T is 3*100, diff = 100*1, gradient = 3*1\n",
    "    gradient = np.dot(x.transpose(),diff)\n",
    "    return gradient"
   ]
  },
  {
   "cell_type": "code",
   "execution_count": 7,
   "id": "a9cbb4a5",
   "metadata": {},
   "outputs": [
    {
     "name": "stdout",
     "output_type": "stream",
     "text": [
      "[[-0.04698448]\n",
      " [ 0.88511771]\n",
      " [-0.9360747 ]]\n"
     ]
    }
   ],
   "source": [
    "#Implementing Newton's Method\n",
    "Theta = np.array([[0,0,0]]).transpose()\n",
    "hessian_inv = np.linalg.inv(Hessian(X,Theta))\n",
    "gradient_L = grad_L(X,Y,Theta)\n",
    "Theta_new = Theta + np.dot(hessian_inv,gradient_L)\n",
    "print(Theta_new)"
   ]
  },
  {
   "cell_type": "markdown",
   "id": "60dcc0a7",
   "metadata": {},
   "source": [
    "# Plot the training data (your axes should be x1 and x2 , corresponding to the two coordinates of the inputs, and you should use a different symbol for each point plotted to indicate whether that example had label 1 or 0). Also plot on the same figure the decision boundary fit by logistic regression. (i.e., this should be a straight line showing the boundary separating the region where h(x) > 0.5 from where h(x) ≤ 0.5.)"
   ]
  },
  {
   "cell_type": "code",
   "execution_count": 13,
   "id": "a61fdadc",
   "metadata": {},
   "outputs": [
    {
     "data": {
      "image/png": "[encoded data removed]",
      "text/plain": [
       "<Figure size 432x288 with 1 Axes>"
      ]
     },
     "metadata": {
      "needs_background": "light"
     },
     "output_type": "display_data"
    }
   ],
   "source": [
    "prediction = h(X,Theta_new)\n",
    "theta_0 = Theta_new[0][0]\n",
    "theta_1 = Theta_new[1][0]\n",
    "theta_2 = Theta_new[2][0]\n",
    "\n",
    "y_plot = -((theta_0+theta_1*feature_1)/theta_2)\n",
    "\n",
    "colors = {0:'red', 1:'green'}\n",
    "markers = {0:'*',1:'^'}\n",
    "\n",
    "\n",
    "def change(vector):\n",
    "    for i in range(0,vector.size):\n",
    "        if(vector[i]<0.5):\n",
    "            vector[i]=0\n",
    "        else:\n",
    "            vector[i]=1\n",
    "    return vector\n",
    "vec = change(prediction)\n",
    "df = pd.DataFrame(vec,columns=['prediction'])\n",
    "\n",
    "plt.scatter(feature_1, feature_2, c=df['prediction'].map(colors))\n",
    "plt.plot(feature_1,y_plot)\n",
    "plt.xlabel( \"X_Values\" , size = 12 )\n",
    "plt.ylabel( \"Y_Values)\" , size = 12 )\n",
    "plt.title( \"Classification\" , size = 24 )\n",
    "plt.show()\n"
   ]
  },
  {
   "cell_type": "code",
   "execution_count": 20,
   "id": "c1117ff1",
   "metadata": {},
   "outputs": [
    {
     "ename": "TypeError",
     "evalue": "cannot unpack non-iterable AxesSubplot object",
     "output_type": "error",
     "traceback": [
      "\u001b[0;31m---------------------------------------------------------------------------\u001b[0m",
      "\u001b[0;31mTypeError\u001b[0m                                 Traceback (most recent call last)",
      "Input \u001b[0;32mIn [20]\u001b[0m, in \u001b[0;36m<cell line: 7>\u001b[0;34m()\u001b[0m\n\u001b[1;32m      4\u001b[0m data_f2[\u001b[38;5;124m'\u001b[39m\u001b[38;5;124my\u001b[39m\u001b[38;5;124m'\u001b[39m]\u001b[38;5;241m=\u001b[39m y_plot\n\u001b[1;32m      6\u001b[0m \u001b[38;5;66;03m#df1 = sns.load_dataset(\"data_f\")\u001b[39;00m\n\u001b[0;32m----> 7\u001b[0m f,ax \u001b[38;5;241m=\u001b[39m sns\u001b[38;5;241m.\u001b[39mscatterplot(data\u001b[38;5;241m=\u001b[39mdata_f,x\u001b[38;5;241m=\u001b[39m\u001b[38;5;124m\"\u001b[39m\u001b[38;5;124mX\u001b[39m\u001b[38;5;124m\"\u001b[39m,y\u001b[38;5;241m=\u001b[39m\u001b[38;5;124m\"\u001b[39m\u001b[38;5;124mY\u001b[39m\u001b[38;5;124m\"\u001b[39m,hue\u001b[38;5;241m=\u001b[39m\u001b[38;5;124m\"\u001b[39m\u001b[38;5;124mClass\u001b[39m\u001b[38;5;124m\"\u001b[39m,style\u001b[38;5;241m=\u001b[39m\u001b[38;5;124m\"\u001b[39m\u001b[38;5;124mClass\u001b[39m\u001b[38;5;124m\"\u001b[39m)\n\u001b[1;32m      8\u001b[0m sns\u001b[38;5;241m.\u001b[39mlineplot(data\u001b[38;5;241m=\u001b[39mdata_f2, x\u001b[38;5;241m=\u001b[39m\u001b[38;5;124m\"\u001b[39m\u001b[38;5;124mX\u001b[39m\u001b[38;5;124m\"\u001b[39m, y\u001b[38;5;241m=\u001b[39m\u001b[38;5;124m\"\u001b[39m\u001b[38;5;124my\u001b[39m\u001b[38;5;124m\"\u001b[39m,color\u001b[38;5;241m=\u001b[39m\u001b[38;5;124m'\u001b[39m\u001b[38;5;124mgreen\u001b[39m\u001b[38;5;124m'\u001b[39m)\n",
      "\u001b[0;31mTypeError\u001b[0m: cannot unpack non-iterable AxesSubplot object"
     ]
    },
    {
     "data": {
      "image/png": "[encoded data removed]",
      "text/plain": [
       "<Figure size 432x288 with 1 Axes>"
      ]
     },
     "metadata": {
      "needs_background": "light"
     },
     "output_type": "display_data"
    }
   ],
   "source": [
    "def prediction_fun(X_test):\n",
    "    return h(X_test,Theta_new)\n",
    "    "
   ]
  },
  {
   "cell_type": "code",
   "execution_count": null,
   "id": "c8accc3e",
   "metadata": {},
   "outputs": [],
   "source": [
    "import seaborn as sns\n",
    "data_f=pd.DataFrame(np.column_stack((feature_1,feature_2,prediction)),columns=['X','Y','Class'])\n",
    "data_f2 = data_f\n",
    "data_f2['y']= y_plot\n",
    "\n",
    "#df1 = sns.load_dataset(\"data_f\")\n",
    "f,ax = sns.scatterplot(data=data_f,x=\"X\",y=\"Y\",hue=\"Class\",style=\"Class\")\n",
    "sns.lineplot(data=data_f2, x=\"X\", y=\"y\",color='green')\n",
    "\n"
   ]
  }
 ],
 "metadata": {
  "kernelspec": {
   "display_name": "Python 3 (ipykernel)",
   "language": "python",
   "name": "python3"
  },
  "language_info": {
   "codemirror_mode": {
    "name": "ipython",
    "version": 3
   },
   "file_extension": ".py",
   "mimetype": "text/x-python",
   "name": "python",
   "nbconvert_exporter": "python",
   "pygments_lexer": "ipython3",
   "version": "3.9.12"
  }
 },
 "nbformat": 4,
 "nbformat_minor": 5
}
